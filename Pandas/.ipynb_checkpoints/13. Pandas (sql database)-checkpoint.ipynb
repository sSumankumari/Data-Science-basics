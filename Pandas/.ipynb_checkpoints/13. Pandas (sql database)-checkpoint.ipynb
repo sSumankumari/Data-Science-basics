{
 "cells": [
  {
   "cell_type": "markdown",
   "id": "e4a9ac4f",
   "metadata": {},
   "source": [
    "# Read Write data from database (read_sql, to_sql)"
   ]
  },
  {
   "cell_type": "code",
   "execution_count": 1,
   "id": "4a04dbaf",
   "metadata": {},
   "outputs": [],
   "source": [
    "import pandas as pd\n",
    "import sqlalchemy as sql"
   ]
  },
  {
   "cell_type": "code",
   "execution_count": 2,
   "id": "f63e8600",
   "metadata": {},
   "outputs": [],
   "source": [
    "# pip install pymysql"
   ]
  },
  {
   "cell_type": "code",
   "execution_count": 3,
   "id": "ddeda131",
   "metadata": {},
   "outputs": [],
   "source": [
    "engine = sql.create_engine('mysql+pymysql://root:@localhost:3306/application')"
   ]
  },
  {
   "cell_type": "code",
   "execution_count": 4,
   "id": "cb0aea10",
   "metadata": {},
   "outputs": [],
   "source": [
    "# df = pd.read_sql_table('customers', engine)\n",
    "# df"
   ]
  },
  {
   "cell_type": "code",
   "execution_count": 6,
   "id": "d4b80f51",
   "metadata": {},
   "outputs": [],
   "source": [
    "# query = '''\n",
    "#  SELECT customers.name, customers.phone_number, orders.name, orders.amount\n",
    "#  FROM customers INNER JOIN orders\n",
    "#  ON customers.id=orders.customer_id\n",
    "# '''\n",
    "# df=pd.read_sql(query,engine)\n",
    "# df"
   ]
  },
  {
   "cell_type": "code",
   "execution_count": null,
   "id": "7188ece7",
   "metadata": {},
   "outputs": [],
   "source": []
  }
 ],
 "metadata": {
  "kernelspec": {
   "display_name": "Python 3 (ipykernel)",
   "language": "python",
   "name": "python3"
  },
  "language_info": {
   "codemirror_mode": {
    "name": "ipython",
    "version": 3
   },
   "file_extension": ".py",
   "mimetype": "text/x-python",
   "name": "python",
   "nbconvert_exporter": "python",
   "pygments_lexer": "ipython3",
   "version": "3.10.9"
  }
 },
 "nbformat": 4,
 "nbformat_minor": 5
}
